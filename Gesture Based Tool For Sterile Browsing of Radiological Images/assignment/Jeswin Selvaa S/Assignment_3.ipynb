{
  "nbformat": 4,
  "nbformat_minor": 0,
  "metadata": {
    "colab": {
      "provenance": [],
      "collapsed_sections": []
    },
    "kernelspec": {
      "name": "python3",
      "display_name": "Python 3"
    },
    "language_info": {
      "name": "python"
    }
  },
  "cells": [
    {
      "cell_type": "code",
      "execution_count": 35,
      "metadata": {
        "colab": {
          "base_uri": "https://localhost:8080/"
        },
        "id": "ArpiuEI6oDLZ",
        "outputId": "9d87fc94-0742-405c-b1eb-3141a38fc257"
      },
      "outputs": [
        {
          "output_type": "stream",
          "name": "stdout",
          "text": [
            "/content/drive/MyDrive/day-4Dataset/cnn\n"
          ]
        }
      ],
      "source": [
        "cd /content/drive/MyDrive/day-4Dataset/cnn/"
      ]
    },
    {
      "cell_type": "code",
      "source": [
        "from google.colab import drive\n",
        "drive.mount('/content/drive')"
      ],
      "metadata": {
        "colab": {
          "base_uri": "https://localhost:8080/"
        },
        "id": "hJwJUTYXrVsP",
        "outputId": "5067fa8c-7dc5-4023-ac45-ca5d46c919fd"
      },
      "execution_count": 2,
      "outputs": [
        {
          "output_type": "stream",
          "name": "stdout",
          "text": [
            "Drive already mounted at /content/drive; to attempt to forcibly remount, call drive.mount(\"/content/drive\", force_remount=True).\n"
          ]
        }
      ]
    },
    {
      "cell_type": "code",
      "source": [
        "ls"
      ],
      "metadata": {
        "colab": {
          "base_uri": "https://localhost:8080/"
        },
        "id": "kLIhqFqLpmqb",
        "outputId": "d03560fd-a48d-4e7a-986c-f959d84bda52"
      },
      "execution_count": 88,
      "outputs": [
        {
          "output_type": "stream",
          "name": "stdout",
          "text": [
            "Animal_Dataset.zip  \u001b[0m\u001b[01;34mdataset\u001b[0m/  \u001b[01;34mFlowers-Dataset\u001b[0m/     flowers.h5\n",
            "animals.h5          \u001b[01;34mflowers\u001b[0m/  Flowers-Dataset.zip  openCV.ipynb\n"
          ]
        }
      ]
    },
    {
      "cell_type": "code",
      "source": [
        "!unzip Flowers-Dataset.zip"
      ],
      "metadata": {
        "colab": {
          "base_uri": "https://localhost:8080/"
        },
        "id": "zji5jWwkqqMf",
        "outputId": "7aa2da3a-1824-4e7c-e8d1-3509ea1b9b50"
      },
      "execution_count": 89,
      "outputs": [
        {
          "output_type": "stream",
          "name": "stdout",
          "text": [
            "Archive:  Flowers-Dataset.zip\n",
            "replace flowers/daisy/100080576_f52e8ee070_n.jpg? [y]es, [n]o, [A]ll, [N]one, [r]ename: "
          ]
        }
      ]
    },
    {
      "cell_type": "code",
      "source": [
        "from tensorflow.keras.preprocessing.image import ImageDataGenerator"
      ],
      "metadata": {
        "id": "16Ab-pF1wCK-"
      },
      "execution_count": 90,
      "outputs": []
    },
    {
      "cell_type": "markdown",
      "source": [
        "Image Augmentation"
      ],
      "metadata": {
        "id": "H-b5PN4JriKD"
      }
    },
    {
      "cell_type": "code",
      "source": [
        "train_pre=ImageDataGenerator(rescale=1./255,horizontal_flip=True,vertical_flip=True,zoom_range=0.2)"
      ],
      "metadata": {
        "id": "U_Py6XtTw7Pw"
      },
      "execution_count": 91,
      "outputs": []
    },
    {
      "cell_type": "code",
      "source": [
        "test_pre=ImageDataGenerator(rescale=1./255)"
      ],
      "metadata": {
        "id": "4vHKFYzgw7Qh"
      },
      "execution_count": 92,
      "outputs": []
    },
    {
      "cell_type": "code",
      "source": [
        "x_train=train_pre.flow_from_directory(r\"/content/drive/MyDrive/day-4Dataset/cnn/Flowers-Dataset/dataset/training\",target_size=(64,64),class_mode=\"categorical\",batch_size=25)"
      ],
      "metadata": {
        "id": "gDtb-3Zey4Ax",
        "colab": {
          "base_uri": "https://localhost:8080/"
        },
        "outputId": "bbe17c37-e3a8-4003-e5cb-4c0e70f55fbe"
      },
      "execution_count": 93,
      "outputs": [
        {
          "output_type": "stream",
          "name": "stdout",
          "text": [
            "Found 3459 images belonging to 5 classes.\n"
          ]
        }
      ]
    },
    {
      "cell_type": "code",
      "source": [
        "x_test=test_pre.flow_from_directory(r\"/content/drive/MyDrive/day-4Dataset/cnn/Flowers-Dataset/dataset/testing\",target_size=(64,64),class_mode=\"categorical\"\n",
        ",batch_size=25)"
      ],
      "metadata": {
        "colab": {
          "base_uri": "https://localhost:8080/"
        },
        "id": "Oi_Eeggbq4hJ",
        "outputId": "89b31d89-f11e-48b0-a0f7-0649020ac17e"
      },
      "execution_count": 94,
      "outputs": [
        {
          "output_type": "stream",
          "name": "stdout",
          "text": [
            "Found 868 images belonging to 5 classes.\n"
          ]
        }
      ]
    },
    {
      "cell_type": "code",
      "source": [
        "from tensorflow.keras.models import Sequential\n",
        "from tensorflow.keras.layers import Convolution2D,MaxPooling2D,Flatten,Dense"
      ],
      "metadata": {
        "id": "tebm_Qost-c5"
      },
      "execution_count": 95,
      "outputs": []
    },
    {
      "cell_type": "markdown",
      "source": [
        "sequential model building"
      ],
      "metadata": {
        "id": "vtsUJ7MPrLty"
      }
    },
    {
      "cell_type": "code",
      "source": [
        "model=Sequential()"
      ],
      "metadata": {
        "id": "Wc6AQ969uKly"
      },
      "execution_count": 96,
      "outputs": []
    },
    {
      "cell_type": "code",
      "source": [
        "model.add(Convolution2D(32,(3,3),activation=\"relu\",input_shape=(64,64,3)))"
      ],
      "metadata": {
        "id": "6JWCBR5FuNN6"
      },
      "execution_count": 97,
      "outputs": []
    },
    {
      "cell_type": "code",
      "source": [
        "model.add(MaxPooling2D(pool_size=(2,2)))"
      ],
      "metadata": {
        "id": "BDW_F_1puQR1"
      },
      "execution_count": 98,
      "outputs": []
    },
    {
      "cell_type": "code",
      "source": [
        "model.add(Flatten())"
      ],
      "metadata": {
        "id": "jC0rKaqQueRZ"
      },
      "execution_count": 99,
      "outputs": []
    },
    {
      "cell_type": "code",
      "source": [
        "model.add(Dense(300,activation=\"relu\",))"
      ],
      "metadata": {
        "id": "Kf1FyZ0Iugb6"
      },
      "execution_count": 100,
      "outputs": []
    },
    {
      "cell_type": "code",
      "source": [
        "model.add(Dense(300,activation=\"relu\",))"
      ],
      "metadata": {
        "id": "Voae8ZcjxHY_"
      },
      "execution_count": 101,
      "outputs": []
    },
    {
      "cell_type": "code",
      "source": [
        "model.add(Dense(5,activation=\"softmax\"))"
      ],
      "metadata": {
        "id": "0qvSeOjEuipn"
      },
      "execution_count": 146,
      "outputs": []
    },
    {
      "cell_type": "markdown",
      "source": [
        "Compile the model"
      ],
      "metadata": {
        "id": "WIf4Z0Qhxabb"
      }
    },
    {
      "cell_type": "code",
      "source": [
        "\n",
        "model.compile(loss=\"categorical_crossentropy\",metrics=[\"accuracy\"],optimizer=\"adam\")"
      ],
      "metadata": {
        "id": "7W3c1QFduuoI"
      },
      "execution_count": 147,
      "outputs": []
    },
    {
      "cell_type": "code",
      "source": [
        "len(x_train)"
      ],
      "metadata": {
        "colab": {
          "base_uri": "https://localhost:8080/"
        },
        "id": "r6BhZY3avaD6",
        "outputId": "fa112a3d-b2e9-4b6d-eddb-285d0000d239"
      },
      "execution_count": 104,
      "outputs": [
        {
          "output_type": "execute_result",
          "data": {
            "text/plain": [
              "139"
            ]
          },
          "metadata": {},
          "execution_count": 104
        }
      ]
    },
    {
      "cell_type": "markdown",
      "source": [
        "Training the model"
      ],
      "metadata": {
        "id": "DPzsPC0b1pK9"
      }
    },
    {
      "cell_type": "code",
      "source": [
        "model.fit(x_train,epochs=20,validation_data=x_test,steps_per_epoch=len(x_train),validation_steps=len(x_test))"
      ],
      "metadata": {
        "id": "buuPtOhzvgyh",
        "colab": {
          "base_uri": "https://localhost:8080/"
        },
        "outputId": "8f7b8723-05be-4172-feb1-c8cc18f78ccb"
      },
      "execution_count": 200,
      "outputs": [
        {
          "output_type": "stream",
          "name": "stdout",
          "text": [
            "Epoch 1/20\n",
            "139/139 [==============================] - 43s 304ms/step - loss: 1.5979 - accuracy: 0.2454 - val_loss: 1.6008 - val_accuracy: 0.2419\n",
            "Epoch 2/20\n",
            "139/139 [==============================] - 40s 290ms/step - loss: 1.5979 - accuracy: 0.2454 - val_loss: 1.6008 - val_accuracy: 0.2419\n",
            "Epoch 3/20\n",
            "139/139 [==============================] - 42s 303ms/step - loss: 1.5980 - accuracy: 0.2454 - val_loss: 1.6008 - val_accuracy: 0.2419\n",
            "Epoch 4/20\n",
            "139/139 [==============================] - 42s 299ms/step - loss: 1.5980 - accuracy: 0.2454 - val_loss: 1.6007 - val_accuracy: 0.2419\n",
            "Epoch 5/20\n",
            "139/139 [==============================] - 40s 286ms/step - loss: 1.5979 - accuracy: 0.2454 - val_loss: 1.6009 - val_accuracy: 0.2419\n",
            "Epoch 6/20\n",
            "139/139 [==============================] - 41s 298ms/step - loss: 1.5980 - accuracy: 0.2454 - val_loss: 1.6008 - val_accuracy: 0.2419\n",
            "Epoch 7/20\n",
            "139/139 [==============================] - 40s 286ms/step - loss: 1.5978 - accuracy: 0.2454 - val_loss: 1.6008 - val_accuracy: 0.2419\n",
            "Epoch 8/20\n",
            "139/139 [==============================] - 40s 284ms/step - loss: 1.5979 - accuracy: 0.2454 - val_loss: 1.6007 - val_accuracy: 0.2419\n",
            "Epoch 9/20\n",
            "139/139 [==============================] - 40s 285ms/step - loss: 1.5978 - accuracy: 0.2454 - val_loss: 1.6008 - val_accuracy: 0.2419\n",
            "Epoch 10/20\n",
            "139/139 [==============================] - 40s 286ms/step - loss: 1.5979 - accuracy: 0.2454 - val_loss: 1.6008 - val_accuracy: 0.2419\n",
            "Epoch 11/20\n",
            "139/139 [==============================] - 40s 287ms/step - loss: 1.5980 - accuracy: 0.2454 - val_loss: 1.6008 - val_accuracy: 0.2419\n",
            "Epoch 12/20\n",
            "139/139 [==============================] - 40s 287ms/step - loss: 1.5979 - accuracy: 0.2454 - val_loss: 1.6008 - val_accuracy: 0.2419\n",
            "Epoch 13/20\n",
            "139/139 [==============================] - 39s 283ms/step - loss: 1.5979 - accuracy: 0.2454 - val_loss: 1.6008 - val_accuracy: 0.2419\n",
            "Epoch 14/20\n",
            "139/139 [==============================] - 40s 290ms/step - loss: 1.5978 - accuracy: 0.2454 - val_loss: 1.6009 - val_accuracy: 0.2419\n",
            "Epoch 15/20\n",
            "139/139 [==============================] - 40s 286ms/step - loss: 1.5980 - accuracy: 0.2454 - val_loss: 1.6009 - val_accuracy: 0.2419\n",
            "Epoch 16/20\n",
            "139/139 [==============================] - 40s 289ms/step - loss: 1.5979 - accuracy: 0.2454 - val_loss: 1.6010 - val_accuracy: 0.2419\n",
            "Epoch 17/20\n",
            "139/139 [==============================] - 40s 290ms/step - loss: 1.5980 - accuracy: 0.2454 - val_loss: 1.6008 - val_accuracy: 0.2419\n",
            "Epoch 18/20\n",
            "139/139 [==============================] - 40s 289ms/step - loss: 1.5979 - accuracy: 0.2454 - val_loss: 1.6009 - val_accuracy: 0.2419\n",
            "Epoch 19/20\n",
            "139/139 [==============================] - 40s 290ms/step - loss: 1.5980 - accuracy: 0.2454 - val_loss: 1.6009 - val_accuracy: 0.2419\n",
            "Epoch 20/20\n",
            "139/139 [==============================] - 41s 291ms/step - loss: 1.5978 - accuracy: 0.2454 - val_loss: 1.6007 - val_accuracy: 0.2419\n"
          ]
        },
        {
          "output_type": "execute_result",
          "data": {
            "text/plain": [
              "<keras.callbacks.History at 0x7f921bd1a510>"
            ]
          },
          "metadata": {},
          "execution_count": 200
        }
      ]
    },
    {
      "cell_type": "markdown",
      "source": [
        "Save the model"
      ],
      "metadata": {
        "id": "W9FGbsLPxvOF"
      }
    },
    {
      "cell_type": "code",
      "source": [
        "model.save(\"flowers.h5\")"
      ],
      "metadata": {
        "id": "V2Fn5mdyxi1F"
      },
      "execution_count": 201,
      "outputs": []
    },
    {
      "cell_type": "markdown",
      "source": [
        "Testing the model"
      ],
      "metadata": {
        "id": "dwYOiP_Yx7CY"
      }
    },
    {
      "cell_type": "code",
      "source": [
        "from tensorflow.keras.models import load_model\n",
        "from tensorflow.keras.preprocessing import image"
      ],
      "metadata": {
        "id": "bjbz1xab74DQ"
      },
      "execution_count": 203,
      "outputs": []
    },
    {
      "cell_type": "code",
      "source": [
        "model=load_model(\"/content/drive/MyDrive/day-4Dataset/cnn/flowers.h5\")"
      ],
      "metadata": {
        "id": "k_wFDzaHx6K7"
      },
      "execution_count": 204,
      "outputs": []
    },
    {
      "cell_type": "code",
      "source": [
        "image1=image.load_img(\"/content/drive/MyDrive/day-4Dataset/cnn/flowers/dandelion/10043234166_e6dd915111_n.jpg\",target_size=(64,64))\n"
      ],
      "metadata": {
        "id": "YUtOvvZyyFr4"
      },
      "execution_count": 215,
      "outputs": []
    },
    {
      "cell_type": "code",
      "source": [
        "image1"
      ],
      "metadata": {
        "id": "khCD4IRtyJVA",
        "colab": {
          "base_uri": "https://localhost:8080/",
          "height": 81
        },
        "outputId": "e425ae02-26e9-4e8a-9f37-f1ac35f28fd8"
      },
      "execution_count": 216,
      "outputs": [
        {
          "output_type": "execute_result",
          "data": {
            "text/plain": [
              "<PIL.Image.Image image mode=RGB size=64x64 at 0x7F921BC16A90>"
            ],
            "image/png": "[encoded data removed]"
          },
          "metadata": {},
          "execution_count": 216
        }
      ]
    },
    {
      "cell_type": "code",
      "source": [
        "x=image.img_to_array(image1)"
      ],
      "metadata": {
        "id": "KBcrwx2JyOwj"
      },
      "execution_count": 207,
      "outputs": []
    },
    {
      "cell_type": "code",
      "source": [
        "x"
      ],
      "metadata": {
        "id": "XnKxt00ByQOK",
        "colab": {
          "base_uri": "https://localhost:8080/"
        },
        "outputId": "37c48135-4fce-4deb-cb89-5ef76e5f4192"
      },
      "execution_count": 208,
      "outputs": [
        {
          "output_type": "execute_result",
          "data": {
            "text/plain": [
              "array([[[133., 163., 197.],\n",
              "        [134., 165., 196.],\n",
              "        [134., 165., 196.],\n",
              "        ...,\n",
              "        [177., 195., 215.],\n",
              "        [177., 195., 215.],\n",
              "        [181., 198., 216.]],\n",
              "\n",
              "       [[132., 162., 198.],\n",
              "        [133., 163., 197.],\n",
              "        [135., 165., 199.],\n",
              "        ...,\n",
              "        [178., 196., 218.],\n",
              "        [177., 195., 215.],\n",
              "        [181., 198., 216.]],\n",
              "\n",
              "       [[130., 163., 196.],\n",
              "        [136., 167., 196.],\n",
              "        [131., 166., 198.],\n",
              "        ...,\n",
              "        [177., 195., 217.],\n",
              "        [178., 196., 216.],\n",
              "        [182., 199., 217.]],\n",
              "\n",
              "       ...,\n",
              "\n",
              "       [[  0.,   9.,   6.],\n",
              "        [ 31.,  30.,   2.],\n",
              "        [ 30.,  43.,  23.],\n",
              "        ...,\n",
              "        [ 28.,  42.,   6.],\n",
              "        [ 93., 107.,  81.],\n",
              "        [ 21.,  31.,   6.]],\n",
              "\n",
              "       [[  0.,  10.,   2.],\n",
              "        [ 29.,  35.,   1.],\n",
              "        [ 67.,  89.,  51.],\n",
              "        ...,\n",
              "        [  3.,  10.,   2.],\n",
              "        [  3.,   9.,   5.],\n",
              "        [ 30.,  43.,   0.]],\n",
              "\n",
              "       [[  0.,   8.,   3.],\n",
              "        [ 23.,  32.,   1.],\n",
              "        [ 36.,  47.,  17.],\n",
              "        ...,\n",
              "        [  1.,   8.,   0.],\n",
              "        [  0.,   3.,   0.],\n",
              "        [ 39.,  51.,  13.]]], dtype=float32)"
            ]
          },
          "metadata": {},
          "execution_count": 208
        }
      ]
    },
    {
      "cell_type": "code",
      "source": [
        "x.ndim"
      ],
      "metadata": {
        "id": "OJuRI_1ayTdq",
        "colab": {
          "base_uri": "https://localhost:8080/"
        },
        "outputId": "64bf2eb6-5ee0-4df1-dd7c-e90bcab71b93"
      },
      "execution_count": 209,
      "outputs": [
        {
          "output_type": "execute_result",
          "data": {
            "text/plain": [
              "3"
            ]
          },
          "metadata": {},
          "execution_count": 209
        }
      ]
    },
    {
      "cell_type": "code",
      "source": [
        "x=np.expand_dims(x,axis=0)"
      ],
      "metadata": {
        "id": "_beKip-RBh-o"
      },
      "execution_count": 210,
      "outputs": []
    },
    {
      "cell_type": "code",
      "source": [
        "pred=model.predict(x)"
      ],
      "metadata": {
        "id": "UgfKwPysyiHZ"
      },
      "execution_count": 211,
      "outputs": []
    },
    {
      "cell_type": "code",
      "source": [
        "pred"
      ],
      "metadata": {
        "id": "OcjuYEsCyky7",
        "colab": {
          "base_uri": "https://localhost:8080/"
        },
        "outputId": "43aed271-1f0a-4ab5-d772-fbe309f0fed6"
      },
      "execution_count": 212,
      "outputs": [
        {
          "output_type": "execute_result",
          "data": {
            "text/plain": [
              "array([[0.17659025, 0.24631065, 0.18186605, 0.16793153, 0.2273016 ]],\n",
              "      dtype=float32)"
            ]
          },
          "metadata": {},
          "execution_count": 212
        }
      ]
    },
    {
      "cell_type": "code",
      "source": [
        "labels=[\"daisy\",\"dandelion\",\"rose\",\"sunflower\",\"tulip\"]"
      ],
      "metadata": {
        "id": "KHHy0wIgymBF"
      },
      "execution_count": 213,
      "outputs": []
    },
    {
      "cell_type": "markdown",
      "source": [
        "Output"
      ],
      "metadata": {
        "id": "0tTHyphWzPlN"
      }
    },
    {
      "cell_type": "code",
      "source": [
        "labels[np.argmax(pred)]"
      ],
      "metadata": {
        "id": "6HkThnTMzOo9",
        "colab": {
          "base_uri": "https://localhost:8080/",
          "height": 36
        },
        "outputId": "1849f30f-aec3-4091-be9c-aa464f992825"
      },
      "execution_count": 217,
      "outputs": [
        {
          "output_type": "execute_result",
          "data": {
            "text/plain": [
              "'dandelion'"
            ],
            "application/vnd.google.colaboratory.intrinsic+json": {
              "type": "string"
            }
          },
          "metadata": {},
          "execution_count": 217
        }
      ]
    }
  ]
}