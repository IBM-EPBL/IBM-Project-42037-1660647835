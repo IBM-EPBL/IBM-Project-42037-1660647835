{
 "cells": [
  {
   "cell_type": "markdown",
   "id": "6cc8bcd6",
   "metadata": {},
   "source": [
    "#TEAM ID : PNT2022TMID48554\n",
    "#PROJECT NAME : GESTURE BASED TOOL FOR STERILE BROWSING OF RADIOLOGICAL IMAGES"
   ]
  },
  {
   "cell_type": "markdown",
   "id": "12e5fede",
   "metadata": {},
   "source": [
    "#IMPORT THE LIBRARIES"
   ]
  },
  {
   "cell_type": "code",
   "execution_count": 2,
   "id": "2bf295d9",
   "metadata": {},
   "outputs": [],
   "source": [
    "import numpy as np\n",
    "import tensorflow \n",
    "from tensorflow.keras.models import Sequential\n",
    "from tensorflow.keras.layers import Dense,Flatten,Dropout\n",
    "from tensorflow.keras.layers import Convolution2D,MaxPooling2D\n",
    "from tensorflow.keras.preprocessing.image import ImageDataGenerator"
   ]
  },
  {
   "cell_type": "markdown",
   "id": "ab7daf10",
   "metadata": {},
   "source": [
    "#DATA AUGMENTATION"
   ]
  },
  {
   "cell_type": "code",
   "execution_count": 3,
   "id": "86c2efcf",
   "metadata": {},
   "outputs": [],
   "source": [
    "train_pre=ImageDataGenerator(rescale=1./255,shear_range=0.2, zoom_range=0.2,horizontal_flip=True)\n",
    "test_pre=ImageDataGenerator(rescale=1./255)"
   ]
  },
  {
   "cell_type": "code",
   "execution_count": 4,
   "id": "1d64a55c",
   "metadata": {
    "scrolled": true
   },
   "outputs": [
    {
     "name": "stdout",
     "output_type": "stream",
     "text": [
      "Found 594 images belonging to 6 classes.\n",
      "Found 30 images belonging to 6 classes.\n"
     ]
    }
   ],
   "source": [
    "x_train=train_pre.flow_from_directory(r\"C:\\Users\\User\\Gestures\\Dataset\\train\",target_size=(64,64),class_mode=\"categorical\",color_mode='grayscale'\n",
    ",batch_size=3)\n",
    "x_test=test_pre.flow_from_directory(r\"C:\\Users\\User\\Gestures\\Dataset\\test\",target_size=(64,64),class_mode=\"categorical\",color_mode='grayscale'\n",
    ",batch_size=3)"
   ]
  },
  {
   "cell_type": "code",
   "execution_count": 5,
   "id": "41510091",
   "metadata": {},
   "outputs": [
    {
     "name": "stdout",
     "output_type": "stream",
     "text": [
      "{'0': 0, '1': 1, '2': 2, '3': 3, '4': 4, '5': 5}\n"
     ]
    }
   ],
   "source": [
    "print(x_train.class_indices)"
   ]
  },
  {
   "cell_type": "markdown",
   "id": "07e74fac",
   "metadata": {},
   "source": [
    "#Model Creation"
   ]
  },
  {
   "cell_type": "code",
   "execution_count": 6,
   "id": "388ca82a",
   "metadata": {},
   "outputs": [],
   "source": [
    "model = Sequential()"
   ]
  },
  {
   "cell_type": "code",
   "execution_count": 7,
   "id": "c6738118",
   "metadata": {},
   "outputs": [],
   "source": [
    "model.add(Convolution2D(32, (3, 3), input_shape=(64, 64, 1), activation='relu'))\n",
    "model.add(MaxPooling2D(pool_size=(2, 2))\n",
    "         )"
   ]
  },
  {
   "cell_type": "code",
   "execution_count": 8,
   "id": "d0ea545a",
   "metadata": {},
   "outputs": [],
   "source": [
    "model.add(Convolution2D(32, (3, 3), activation='relu'))\n",
    "model.add(MaxPooling2D(pool_size=(2, 2)))"
   ]
  },
  {
   "cell_type": "code",
   "execution_count": 9,
   "id": "0bc77a0c",
   "metadata": {},
   "outputs": [],
   "source": [
    "model.add(Flatten())"
   ]
  },
  {
   "cell_type": "code",
   "execution_count": 10,
   "id": "9638705b",
   "metadata": {},
   "outputs": [],
   "source": [
    "model.add(Dense(units=512,activation=\"relu\"))"
   ]
  },
  {
   "cell_type": "code",
   "execution_count": 11,
   "id": "c15ca67a",
   "metadata": {},
   "outputs": [],
   "source": [
    "model.add(Dense(units=6,activation=\"softmax\"))"
   ]
  },
  {
   "cell_type": "code",
   "execution_count": 12,
   "id": "17f92290",
   "metadata": {},
   "outputs": [],
   "source": [
    "model.compile(optimizer=\"adam\",loss=\"categorical_crossentropy\",metrics=[\"accuracy\"])"
   ]
  },
  {
   "cell_type": "code",
   "execution_count": 13,
   "id": "9c12bc7f",
   "metadata": {},
   "outputs": [
    {
     "name": "stdout",
     "output_type": "stream",
     "text": [
      "Model: \"sequential\"\n",
      "_________________________________________________________________\n",
      " Layer (type)                Output Shape              Param #   \n",
      "=================================================================\n",
      " conv2d (Conv2D)             (None, 62, 62, 32)        320       \n",
      "                                                                 \n",
      " max_pooling2d (MaxPooling2D  (None, 31, 31, 32)       0         \n",
      " )                                                               \n",
      "                                                                 \n",
      " conv2d_1 (Conv2D)           (None, 29, 29, 32)        9248      \n",
      "                                                                 \n",
      " max_pooling2d_1 (MaxPooling  (None, 14, 14, 32)       0         \n",
      " 2D)                                                             \n",
      "                                                                 \n",
      " flatten (Flatten)           (None, 6272)              0         \n",
      "                                                                 \n",
      " dense (Dense)               (None, 512)               3211776   \n",
      "                                                                 \n",
      " dense_1 (Dense)             (None, 6)                 3078      \n",
      "                                                                 \n",
      "=================================================================\n",
      "Total params: 3,224,422\n",
      "Trainable params: 3,224,422\n",
      "Non-trainable params: 0\n",
      "_________________________________________________________________\n"
     ]
    }
   ],
   "source": [
    "model.summary()"
   ]
  },
  {
   "cell_type": "markdown",
   "id": "279e695b",
   "metadata": {},
   "source": [
    "#Fitting The Model"
   ]
  },
  {
   "cell_type": "code",
   "execution_count": 17,
   "id": "49a27ae5",
   "metadata": {
    "scrolled": true
   },
   "outputs": [
    {
     "name": "stdout",
     "output_type": "stream",
     "text": [
      "Epoch 1/25\n",
      "198/198 [==============================] - 6s 33ms/step - loss: 0.0956 - accuracy: 0.9747 - val_loss: 1.0061 - val_accuracy: 0.8000\n",
      "Epoch 2/25\n",
      "198/198 [==============================] - 6s 28ms/step - loss: 0.0622 - accuracy: 0.9697 - val_loss: 0.5038 - val_accuracy: 0.9333\n",
      "Epoch 3/25\n",
      "198/198 [==============================] - 6s 29ms/step - loss: 0.0191 - accuracy: 0.9966 - val_loss: 0.7071 - val_accuracy: 0.9333\n",
      "Epoch 4/25\n",
      "198/198 [==============================] - 6s 28ms/step - loss: 0.0123 - accuracy: 0.9966 - val_loss: 0.8982 - val_accuracy: 0.9333\n",
      "Epoch 5/25\n",
      "198/198 [==============================] - 6s 28ms/step - loss: 0.0023 - accuracy: 1.0000 - val_loss: 0.7736 - val_accuracy: 0.9333\n",
      "Epoch 6/25\n",
      "198/198 [==============================] - 6s 29ms/step - loss: 0.0214 - accuracy: 0.9949 - val_loss: 0.7076 - val_accuracy: 0.9333\n",
      "Epoch 7/25\n",
      "198/198 [==============================] - 6s 29ms/step - loss: 0.0042 - accuracy: 1.0000 - val_loss: 0.8367 - val_accuracy: 0.8667\n",
      "Epoch 8/25\n",
      "198/198 [==============================] - 6s 29ms/step - loss: 0.0060 - accuracy: 0.9966 - val_loss: 0.7550 - val_accuracy: 0.9333\n",
      "Epoch 9/25\n",
      "198/198 [==============================] - 6s 29ms/step - loss: 0.0017 - accuracy: 1.0000 - val_loss: 0.9044 - val_accuracy: 0.9333\n",
      "Epoch 10/25\n",
      "198/198 [==============================] - 6s 29ms/step - loss: 7.8635e-04 - accuracy: 1.0000 - val_loss: 0.8452 - val_accuracy: 0.9333\n",
      "Epoch 11/25\n",
      "198/198 [==============================] - 6s 29ms/step - loss: 2.7762e-04 - accuracy: 1.0000 - val_loss: 0.8525 - val_accuracy: 0.9333\n",
      "Epoch 12/25\n",
      "198/198 [==============================] - 6s 29ms/step - loss: 7.7215e-04 - accuracy: 1.0000 - val_loss: 0.8293 - val_accuracy: 0.9333\n",
      "Epoch 13/25\n",
      "198/198 [==============================] - 6s 29ms/step - loss: 1.2641e-04 - accuracy: 1.0000 - val_loss: 0.8985 - val_accuracy: 0.9333\n",
      "Epoch 14/25\n",
      "198/198 [==============================] - 6s 29ms/step - loss: 0.0305 - accuracy: 0.9899 - val_loss: 1.3631 - val_accuracy: 0.8000\n",
      "Epoch 15/25\n",
      "198/198 [==============================] - 6s 29ms/step - loss: 0.1051 - accuracy: 0.9663 - val_loss: 0.5481 - val_accuracy: 0.9667\n",
      "Epoch 16/25\n",
      "198/198 [==============================] - 6s 29ms/step - loss: 0.0513 - accuracy: 0.9882 - val_loss: 0.6419 - val_accuracy: 0.9333\n",
      "Epoch 17/25\n",
      "198/198 [==============================] - 6s 29ms/step - loss: 0.0174 - accuracy: 0.9949 - val_loss: 0.4007 - val_accuracy: 0.9667\n",
      "Epoch 18/25\n",
      "198/198 [==============================] - 6s 30ms/step - loss: 0.0233 - accuracy: 0.9865 - val_loss: 0.5405 - val_accuracy: 0.9333\n",
      "Epoch 19/25\n",
      "198/198 [==============================] - 6s 29ms/step - loss: 0.0024 - accuracy: 1.0000 - val_loss: 0.5343 - val_accuracy: 0.9333\n",
      "Epoch 20/25\n",
      "198/198 [==============================] - 6s 29ms/step - loss: 0.0113 - accuracy: 0.9966 - val_loss: 0.5379 - val_accuracy: 0.9667\n",
      "Epoch 21/25\n",
      "198/198 [==============================] - 6s 29ms/step - loss: 0.0380 - accuracy: 0.9848 - val_loss: 0.5883 - val_accuracy: 0.9333\n",
      "Epoch 22/25\n",
      "198/198 [==============================] - 6s 29ms/step - loss: 0.0684 - accuracy: 0.9848 - val_loss: 0.6901 - val_accuracy: 0.9333\n",
      "Epoch 23/25\n",
      "198/198 [==============================] - 6s 29ms/step - loss: 0.0223 - accuracy: 0.9899 - val_loss: 0.5443 - val_accuracy: 0.9333\n",
      "Epoch 24/25\n",
      "198/198 [==============================] - 6s 29ms/step - loss: 0.0119 - accuracy: 0.9983 - val_loss: 0.7362 - val_accuracy: 0.9000\n",
      "Epoch 25/25\n",
      "198/198 [==============================] - 6s 29ms/step - loss: 9.0722e-04 - accuracy: 1.0000 - val_loss: 0.5869 - val_accuracy: 0.9000\n"
     ]
    },
    {
     "data": {
      "text/plain": [
       "<keras.callbacks.History at 0x20ef5abf2e0>"
      ]
     },
     "execution_count": 17,
     "metadata": {},
     "output_type": "execute_result"
    }
   ],
   "source": [
    "model.fit(x_train, steps_per_epoch = 594/3 , epochs = 25, validation_data = x_test,validation_steps = 30/3)"
   ]
  },
  {
   "cell_type": "markdown",
   "id": "8b4c82c1",
   "metadata": {},
   "source": [
    "#Saving the model"
   ]
  },
  {
   "cell_type": "code",
   "execution_count": 18,
   "id": "e0e73020",
   "metadata": {},
   "outputs": [],
   "source": [
    "model.save('gesture.h5')"
   ]
  },
  {
   "cell_type": "code",
   "execution_count": 19,
   "id": "3196f638",
   "metadata": {},
   "outputs": [],
   "source": [
    "model_json = model.to_json()\n",
    "with open(\"model-bw.json\", \"w\") as json_file:\n",
    "    json_file.write(model_json)"
   ]
  }
 ],
 "metadata": {
  "kernelspec": {
   "display_name": "Python 3 (ipykernel)",
   "language": "python",
   "name": "python3"
  },
  "language_info": {
   "codemirror_mode": {
    "name": "ipython",
    "version": 3
   },
   "file_extension": ".py",
   "mimetype": "text/x-python",
   "name": "python",
   "nbconvert_exporter": "python",
   "pygments_lexer": "ipython3",
   "version": "3.10.8"
  }
 },
 "nbformat": 4,
 "nbformat_minor": 5
}
